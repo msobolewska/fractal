{
 "cells": [
  {
   "cell_type": "markdown",
   "id": "0263e952-901d-41a4-80fc-4f9431c12e95",
   "metadata": {},
   "source": [
    "Based on \"Methodological Note on the Fractal Analysis of Texts\" Jan Andres , Martina Benešová , Lubomír Kubáček & Jana Vrbková"
   ]
  },
  {
   "cell_type": "code",
   "execution_count": 1,
   "id": "78b02cd2-bdfc-4d66-a835-e5feb721ef61",
   "metadata": {},
   "outputs": [],
   "source": [
    "from helpers.FileUtils import read_txt_file_paragraphs\n",
    "text = read_txt_file_paragraphs('achristmascarol_textonly')\n",
    "#print(text)"
   ]
  },
  {
   "cell_type": "code",
   "execution_count": 2,
   "id": "d6630883-6ed0-4878-97bb-273ddfd73abe",
   "metadata": {
    "scrolled": true
   },
   "outputs": [
    {
     "name": "stderr",
     "output_type": "stream",
     "text": [
      "[nltk_data] Downloading package punkt to /home/magdalena/nltk_data...\n",
      "[nltk_data]   Package punkt is already up-to-date!\n"
     ]
    }
   ],
   "source": [
    "from helpers.TextManipulations import split_text_into_paragraphs\n",
    "text_split_into_paragraphs = split_text_into_paragraphs(text)\n",
    "#print(text_split_into_paragraphs)"
   ]
  },
  {
   "cell_type": "markdown",
   "id": "52113d04-cf01-4f77-a7ac-94ba6173b26e",
   "metadata": {},
   "source": [
    "Paragraph - Sentence - Word - Syllable - Phoneme"
   ]
  },
  {
   "cell_type": "code",
   "execution_count": 3,
   "id": "dc28ddbc-7746-4972-b870-dd24f929ae2f",
   "metadata": {},
   "outputs": [],
   "source": [
    "from helpers.TextManipulations import split_text_into_sentences\n",
    "sentences = [split_text_into_sentences(element) for element in text_split_into_paragraphs]\n",
    "#print(sentences)"
   ]
  },
  {
   "cell_type": "code",
   "execution_count": 4,
   "id": "28cbd187-71ad-42f2-a410-d4fd48a317db",
   "metadata": {},
   "outputs": [],
   "source": [
    "# Now is suitable moment for a text normalization\n",
    "from helpers.TextManipulations import perform_text_preprocessing\n",
    "sentences_normalized = [[perform_text_preprocessing(string) for string in inner_list] for inner_list in sentences]\n",
    "#print(sentences_normalized)"
   ]
  },
  {
   "cell_type": "code",
   "execution_count": 5,
   "id": "d5eb9dff-98cb-428c-8e66-6b986b0a0ebd",
   "metadata": {},
   "outputs": [],
   "source": [
    "from algorithms.MAL.MAL import create_sentences_length_in_paragraph_dict\n",
    "sentences_dict = create_sentences_length_in_paragraph_dict(sentences_normalized)\n",
    "#print(sentences_dict[6])"
   ]
  },
  {
   "cell_type": "code",
   "execution_count": 6,
   "id": "09aba90b-09c2-4887-8062-b5d7624eb76c",
   "metadata": {},
   "outputs": [],
   "source": [
    "from algorithms.MAL.MAL import perform_word_split\n",
    "sentences_dict_split = perform_word_split(sentences_dict)\n",
    "#print(sentences_dict_split[6])"
   ]
  },
  {
   "cell_type": "code",
   "execution_count": 7,
   "id": "11db2786-36cf-4e33-a48e-6c22e9735191",
   "metadata": {},
   "outputs": [],
   "source": [
    "# Create word dictionary\n",
    "from algorithms.MAL.MAL import create_words_length_in_sentence_dict\n",
    "words_dict = create_words_length_in_sentence_dict(sentences_dict_split) \n",
    "#print(words_dict)"
   ]
  },
  {
   "cell_type": "code",
   "execution_count": 8,
   "id": "ac5809f1-cfcf-4894-b5f9-3ee241600dc9",
   "metadata": {},
   "outputs": [],
   "source": [
    "# Count length of sentences in paragraphs\n",
    "from algorithms.MAL.MAL import count_sentences_length_in_paragraph_dict\n",
    "sentences_dict_split_counted = count_sentences_length_in_paragraph_dict(sentences_dict_split) \n",
    "#print(sentences_dict_split_counted[6])"
   ]
  },
  {
   "cell_type": "markdown",
   "id": "3d07189d-0c55-440e-9cd2-a8d133b54d62",
   "metadata": {},
   "source": [
    "Level 1: Paragraph - Sentence - Word (X_1, Y_1)"
   ]
  },
  {
   "cell_type": "code",
   "execution_count": 9,
   "id": "1473f20d-9a5d-42f1-a5d8-da310810bddc",
   "metadata": {},
   "outputs": [],
   "source": [
    "from algorithms.MAL.MAL import average_sentences_length_in_paragraph_dict_single\n",
    "sentences_dict_split_counted_average_single = average_sentences_length_in_paragraph_dict_single(sentences_dict_split_counted) \n",
    "#print(sentences_dict_split_counted_average_single)"
   ]
  },
  {
   "cell_type": "code",
   "execution_count": 10,
   "id": "00fb52ce-d6bf-4cbf-815d-248f619dc869",
   "metadata": {},
   "outputs": [
    {
     "name": "stdout",
     "output_type": "stream",
     "text": [
      "{1: 11.21111111111111, 6: 12.856060606060606, 5: 13.38139534883721, 4: 11.220930232558139, 7: 12.206349206349206, 3: 10.21584699453552, 2: 10.62704918032787, 8: 10.109375, 12: 6.833333333333334, 11: 5.7272727272727275, 13: 16.923076923076923, 10: 12.1, 9: 8.13888888888889, 16: 15.375}\n"
     ]
    }
   ],
   "source": [
    "from algorithms.MAL.MAL import average_sentences_length_in_paragraph_dict\n",
    "X_1_Y_1 = average_sentences_length_in_paragraph_dict(sentences_dict_split_counted_average_single) \n",
    "print(X_1_Y_1)"
   ]
  },
  {
   "cell_type": "code",
   "execution_count": 11,
   "id": "3872bd43-1f61-4b42-86b0-9cd360bd8fb5",
   "metadata": {},
   "outputs": [
    {
     "name": "stdout",
     "output_type": "stream",
     "text": [
      "Key\tValue\n",
      "---------------\n",
      "1\t11.21111111111111\n",
      "2\t10.62704918032787\n",
      "3\t10.21584699453552\n",
      "4\t11.220930232558139\n",
      "5\t13.38139534883721\n",
      "6\t12.856060606060606\n",
      "7\t12.206349206349206\n",
      "8\t10.109375\n",
      "9\t8.13888888888889\n",
      "10\t12.1\n",
      "11\t5.7272727272727275\n",
      "12\t6.833333333333334\n",
      "13\t16.923076923076923\n",
      "16\t15.375\n"
     ]
    }
   ],
   "source": [
    "from algorithms.MAL.MAL import print_sorted\n",
    "print_sorted(X_1_Y_1)"
   ]
  },
  {
   "cell_type": "code",
   "execution_count": 12,
   "id": "00328e8f-63a0-403c-808e-a876f4e6b292",
   "metadata": {},
   "outputs": [],
   "source": [
    "from algorithms.MAL.MAL import perform_syllable_split\n",
    "words_dict_split = perform_syllable_split(words_dict)\n",
    "#print(words_dict[6])\n",
    "#print(words_dict_split[6])"
   ]
  },
  {
   "cell_type": "code",
   "execution_count": 13,
   "id": "a5abe365-519d-4326-a48a-c9e8bfa828c4",
   "metadata": {},
   "outputs": [],
   "source": [
    "# Create syllable dictionary\n",
    "from algorithms.MAL.MAL import create_words_length_in_sentence_dict\n",
    "syllables_dict = create_words_length_in_sentence_dict(words_dict_split) \n",
    "#print(syllables_dict)"
   ]
  },
  {
   "cell_type": "code",
   "execution_count": 14,
   "id": "ce95a7ac-0882-4ac0-bda0-357b16274630",
   "metadata": {},
   "outputs": [],
   "source": [
    "# Count length of words in sentences\n",
    "from algorithms.MAL.MAL import count_sentences_length_in_paragraph_dict\n",
    "words_dict_split_counted = count_sentences_length_in_paragraph_dict(words_dict_split) \n",
    "#print(words_dict_split_counted)\n",
    "# drop 0-length\n",
    "del words_dict_split_counted[0]"
   ]
  },
  {
   "cell_type": "markdown",
   "id": "b5a3d58b-f45a-47e7-87df-cf33c79cf8fc",
   "metadata": {},
   "source": [
    "Level 2: Sentence - Word - Syllable (X_2, Y_2)"
   ]
  },
  {
   "cell_type": "code",
   "execution_count": 15,
   "id": "709899fd-9a26-499a-9f95-b87b8e8fb6f5",
   "metadata": {},
   "outputs": [],
   "source": [
    "from algorithms.MAL.MAL import average_sentences_length_in_paragraph_dict_single\n",
    "words_dict_split_counted_average_single = average_sentences_length_in_paragraph_dict_single(words_dict_split_counted) \n",
    "#print(words_dict_split_counted_average_single)"
   ]
  },
  {
   "cell_type": "code",
   "execution_count": 16,
   "id": "11161181-7632-46d0-a68e-b7af0439fbd9",
   "metadata": {},
   "outputs": [
    {
     "name": "stdout",
     "output_type": "stream",
     "text": [
      "{2: 1.4351851851851851, 1: 1.4259259259259258, 4: 1.40625, 32: 1.6979166666666667, 14: 1.553191489361702, 17: 1.542483660130719, 7: 1.4975369458128078, 9: 1.4705882352941178, 6: 1.4318734793187349, 18: 1.5813492063492063, 3: 1.429718875502008, 8: 1.4759615384615385, 22: 1.5606060606060606, 5: 1.4277777777777778, 11: 1.602058319039451, 10: 1.4966666666666666, 16: 1.6139705882352942, 13: 1.5384615384615385, 19: 1.4952153110047848, 24: 1.646604938271605, 15: 1.543859649122807, 20: 1.6243589743589744, 27: 1.6524216524216524, 12: 1.560897435897436, 45: 2.0444444444444443, 31: 1.7004608294930876, 21: 1.5887445887445888, 56: 1.5357142857142858, 25: 1.61375, 47: 1.7446808510638299, 29: 1.598746081504702, 36: 1.5694444444444444, 38: 1.6263157894736842, 23: 1.561436672967864, 72: 1.7152777777777777, 33: 1.7202797202797202, 39: 1.5833333333333333, 26: 1.6370192307692308, 41: 1.5772357723577235, 40: 1.5178571428571428, 52: 1.5, 28: 1.6101190476190477, 77: 1.7272727272727273, 30: 1.5904761904761906, 35: 1.6571428571428573, 42: 1.880952380952381, 46: 1.8478260869565217, 62: 1.5483870967741935, 57: 1.5263157894736843, 79: 1.6582278481012658, 102: 1.6470588235294117, 34: 1.5, 50: 1.76, 43: 1.622093023255814, 61: 1.6065573770491803, 48: 1.65625, 37: 1.5945945945945947, 51: 1.5098039215686274, 66: 1.4090909090909092, 76: 1.75, 59: 1.6271186440677967, 55: 1.7454545454545454, 58: 1.5172413793103448, 44: 1.6534090909090908, 54: 1.9074074074074074, 73: 1.6986301369863013, 63: 1.5555555555555556}\n"
     ]
    }
   ],
   "source": [
    "from algorithms.MAL.MAL import average_sentences_length_in_paragraph_dict\n",
    "X_2_Y_2 = average_sentences_length_in_paragraph_dict(words_dict_split_counted_average_single) \n",
    "print(X_2_Y_2)"
   ]
  },
  {
   "cell_type": "code",
   "execution_count": 17,
   "id": "fa93a35c-cfe3-4bca-bc2e-fc4e06c5b4ed",
   "metadata": {},
   "outputs": [
    {
     "name": "stdout",
     "output_type": "stream",
     "text": [
      "Key\tValue\n",
      "---------------\n",
      "1\t1.4259259259259258\n",
      "2\t1.4351851851851851\n",
      "3\t1.429718875502008\n",
      "4\t1.40625\n",
      "5\t1.4277777777777778\n",
      "6\t1.4318734793187349\n",
      "7\t1.4975369458128078\n",
      "8\t1.4759615384615385\n",
      "9\t1.4705882352941178\n",
      "10\t1.4966666666666666\n",
      "11\t1.602058319039451\n",
      "12\t1.560897435897436\n",
      "13\t1.5384615384615385\n",
      "14\t1.553191489361702\n",
      "15\t1.543859649122807\n",
      "16\t1.6139705882352942\n",
      "17\t1.542483660130719\n",
      "18\t1.5813492063492063\n",
      "19\t1.4952153110047848\n",
      "20\t1.6243589743589744\n",
      "21\t1.5887445887445888\n",
      "22\t1.5606060606060606\n",
      "23\t1.561436672967864\n",
      "24\t1.646604938271605\n",
      "25\t1.61375\n",
      "26\t1.6370192307692308\n",
      "27\t1.6524216524216524\n",
      "28\t1.6101190476190477\n",
      "29\t1.598746081504702\n",
      "30\t1.5904761904761906\n",
      "31\t1.7004608294930876\n",
      "32\t1.6979166666666667\n",
      "33\t1.7202797202797202\n",
      "34\t1.5\n",
      "35\t1.6571428571428573\n",
      "36\t1.5694444444444444\n",
      "37\t1.5945945945945947\n",
      "38\t1.6263157894736842\n",
      "39\t1.5833333333333333\n",
      "40\t1.5178571428571428\n",
      "41\t1.5772357723577235\n",
      "42\t1.880952380952381\n",
      "43\t1.622093023255814\n",
      "44\t1.6534090909090908\n",
      "45\t2.0444444444444443\n",
      "46\t1.8478260869565217\n",
      "47\t1.7446808510638299\n",
      "48\t1.65625\n",
      "50\t1.76\n",
      "51\t1.5098039215686274\n",
      "52\t1.5\n",
      "54\t1.9074074074074074\n",
      "55\t1.7454545454545454\n",
      "56\t1.5357142857142858\n",
      "57\t1.5263157894736843\n",
      "58\t1.5172413793103448\n",
      "59\t1.6271186440677967\n",
      "61\t1.6065573770491803\n",
      "62\t1.5483870967741935\n",
      "63\t1.5555555555555556\n",
      "66\t1.4090909090909092\n",
      "72\t1.7152777777777777\n",
      "73\t1.6986301369863013\n",
      "76\t1.75\n",
      "77\t1.7272727272727273\n",
      "79\t1.6582278481012658\n",
      "102\t1.6470588235294117\n"
     ]
    }
   ],
   "source": [
    "from algorithms.MAL.MAL import print_sorted\n",
    "print_sorted(X_2_Y_2)"
   ]
  },
  {
   "cell_type": "code",
   "execution_count": 18,
   "id": "fc4bf6c3-1f66-4602-87fb-5d1e84e8d658",
   "metadata": {},
   "outputs": [],
   "source": [
    "from algorithms.MAL.MAL import perform_phoneme_split\n",
    "syllables_dict_split = perform_phoneme_split(syllables_dict)\n",
    "#print(syllables_dict)\n",
    "#print(syllables_dict_split)"
   ]
  },
  {
   "cell_type": "code",
   "execution_count": 19,
   "id": "23ff3258-53bf-4688-95e5-a398d78e7184",
   "metadata": {},
   "outputs": [],
   "source": [
    "# Count length of syllables in words\n",
    "from algorithms.MAL.MAL import count_sentences_length_in_paragraph_dict\n",
    "syllables_dict_split_counted = count_sentences_length_in_paragraph_dict(syllables_dict_split) \n",
    "#print(syllables_dict_split_counted)"
   ]
  },
  {
   "cell_type": "markdown",
   "id": "10d8d485-a69d-4580-a4fc-4a6ff6d7cf13",
   "metadata": {},
   "source": [
    "Level 3: Word - Syllable - Phoneme (X_3, Y_3)"
   ]
  },
  {
   "cell_type": "code",
   "execution_count": 20,
   "id": "b3ba25db-9007-4596-a6d1-542824213345",
   "metadata": {},
   "outputs": [],
   "source": [
    "from algorithms.MAL.MAL import average_sentences_length_in_paragraph_dict_single\n",
    "syllables_dict_split_counted_average_single = average_sentences_length_in_paragraph_dict_single(syllables_dict_split_counted) \n",
    "#print(syllables_dict_split_counted_average_single)"
   ]
  },
  {
   "cell_type": "code",
   "execution_count": 21,
   "id": "f67679ec-9385-4891-a649-3a42713f19f0",
   "metadata": {},
   "outputs": [
    {
     "name": "stdout",
     "output_type": "stream",
     "text": [
      "{3: 3.370791844476055, 2: 3.4728795049144523, 1: 4.0601328176311755, 4: 3.1936236391912907, 5: 3.195, 6: 3.2413793103448274, 7: 3.0952380952380953, 8: 2.875}\n"
     ]
    }
   ],
   "source": [
    "from algorithms.MAL.MAL import average_sentences_length_in_paragraph_dict\n",
    "X_3_Y_3 = average_sentences_length_in_paragraph_dict(syllables_dict_split_counted_average_single) \n",
    "print(X_3_Y_3)"
   ]
  },
  {
   "cell_type": "code",
   "execution_count": 22,
   "id": "e0948284-6e6e-439d-971f-f729aa1dc357",
   "metadata": {},
   "outputs": [
    {
     "name": "stdout",
     "output_type": "stream",
     "text": [
      "Key\tValue\n",
      "---------------\n",
      "1\t4.0601328176311755\n",
      "2\t3.4728795049144523\n",
      "3\t3.370791844476055\n",
      "4\t3.1936236391912907\n",
      "5\t3.195\n",
      "6\t3.2413793103448274\n",
      "7\t3.0952380952380953\n",
      "8\t2.875\n"
     ]
    }
   ],
   "source": [
    "from algorithms.MAL.MAL import print_sorted\n",
    "print_sorted(X_3_Y_3)"
   ]
  },
  {
   "cell_type": "code",
   "execution_count": 23,
   "id": "f6f6badb-2478-49eb-8d04-e4e820f6a776",
   "metadata": {},
   "outputs": [
    {
     "name": "stdout",
     "output_type": "stream",
     "text": [
      "-0.024680074097339456\n",
      "-0.046377056933939995\n",
      "0.13984937415455856\n"
     ]
    }
   ],
   "source": [
    "from algorithms.MAL.MAL import find_A_b_numerically\n",
    "a_1, b_1 = find_A_b_numerically(X_1_Y_1)\n",
    "print(b_1)\n",
    "a_2, b_2 = find_A_b_numerically(X_2_Y_2)\n",
    "print(b_2)\n",
    "a_3, b_3 = find_A_b_numerically(X_3_Y_3)\n",
    "print(b_3)"
   ]
  },
  {
   "cell_type": "code",
   "execution_count": 24,
   "id": "8d8f5fe8-bc74-4602-b950-3c5914f64979",
   "metadata": {},
   "outputs": [
    {
     "name": "stdout",
     "output_type": "stream",
     "text": [
      "43.60956793666186\n"
     ]
    }
   ],
   "source": [
    "D = 3 / (b_1 + b_2 + b_3)\n",
    "print(D)"
   ]
  }
 ],
 "metadata": {
  "kernelspec": {
   "display_name": "Python 3 (ipykernel)",
   "language": "python",
   "name": "python3"
  },
  "language_info": {
   "codemirror_mode": {
    "name": "ipython",
    "version": 3
   },
   "file_extension": ".py",
   "mimetype": "text/x-python",
   "name": "python",
   "nbconvert_exporter": "python",
   "pygments_lexer": "ipython3",
   "version": "3.8.10"
  }
 },
 "nbformat": 4,
 "nbformat_minor": 5
}
