{
 "cells": [
  {
   "cell_type": "code",
   "execution_count": 1,
   "id": "eab4f89d-4111-4d5a-bc17-f7a7db7b4676",
   "metadata": {},
   "outputs": [
    {
     "name": "stdout",
     "output_type": "stream",
     "text": [
      "<class 'pandas.core.frame.DataFrame'>\n",
      "RangeIndex: 2439 entries, 0 to 2438\n",
      "Data columns (total 39 columns):\n",
      " #   Column                Non-Null Count  Dtype \n",
      "---  ------                --------------  ----- \n",
      " 0   Unnamed: 0            2439 non-null   int64 \n",
      " 1   term                  2439 non-null   object\n",
      " 2   response_gpt3         2439 non-null   object\n",
      " 3   pos_gpt3              2439 non-null   object\n",
      " 4   response_gpt4         2439 non-null   object\n",
      " 5   pos_gpt4              2439 non-null   object\n",
      " 6   wiki_response_gpt3    2439 non-null   object\n",
      " 7   wiki_pos_gpt3         2439 non-null   object\n",
      " 8   wiki_response_gpt4    2439 non-null   object\n",
      " 9   wiki_pos_gpt4         2439 non-null   object\n",
      " 10  response_orca         2439 non-null   object\n",
      " 11  pos_orca              2439 non-null   object\n",
      " 12  wiki_response_orca    2439 non-null   object\n",
      " 13  wiki_pos_orca         2439 non-null   object\n",
      " 14  prompt                2439 non-null   object\n",
      " 15  response_falcon       2439 non-null   object\n",
      " 16  pos_falcon            2439 non-null   object\n",
      " 17  wiki_response_falcon  2439 non-null   object\n",
      " 18  wiki_pos_falcon       2439 non-null   object\n",
      " 19  response_llama        2439 non-null   object\n",
      " 20  pos_llama             2439 non-null   object\n",
      " 21  wiki_response_llama   2439 non-null   object\n",
      " 22  wiki_pos_llama        2439 non-null   object\n",
      " 23  response_llama3       2439 non-null   object\n",
      " 24  pos_llama3            2439 non-null   object\n",
      " 25  wiki_response_llama3  2439 non-null   object\n",
      " 26  wiki_pos_llama3       2439 non-null   object\n",
      " 27  wiki_text_y           940 non-null    object\n",
      " 28  text_pos              2439 non-null   object\n",
      " 29  sumy                  2439 non-null   object\n",
      " 30  ts_sum                2439 non-null   object\n",
      " 31  bart_sum              2439 non-null   object\n",
      " 32  text                  2439 non-null   object\n",
      " 33  wiki_text             2439 non-null   object\n",
      " 34  gensim_sum            2419 non-null   object\n",
      " 35  sumy_pos              2439 non-null   object\n",
      " 36  bart_pos              2439 non-null   object\n",
      " 37  ts_pos                2439 non-null   object\n",
      " 38  gensim_pos            2439 non-null   object\n",
      "dtypes: int64(1), object(38)\n",
      "memory usage: 743.3+ KB\n"
     ]
    }
   ],
   "source": [
    "import pandas as pd\n",
    "df = pd.read_csv('dane_wiki_final.csv')\n",
    "df.info()\n",
    "# errors in this row - looks like sentence is cut to one word only, list has length 1\n",
    "df = df.drop(index=1528)"
   ]
  },
  {
   "cell_type": "code",
   "execution_count": 2,
   "id": "8d07b720-c017-4f49-852e-9da81e1aab68",
   "metadata": {},
   "outputs": [],
   "source": [
    "text_columns = [\"response_gpt3\",  \"wiki_response_gpt3\", \"response_gpt4\", \"wiki_response_gpt4\", \"response_orca\", \"wiki_response_orca\",\n",
    "               \"response_falcon\", \"wiki_response_falcon\", \"response_llama\", \"wiki_response_llama\", \"response_llama3\", \n",
    "               \"wiki_response_llama3\", \"wiki_text_y\", \"sumy\", \"bart_sum\", \"text\", \"wiki_text\", \"ts_sum\", \"gensim_sum\"]\n",
    "#text_columns = [\"response_gpt3\",  \"wiki_response_gpt3\", \"response_gpt4\", \"wiki_response_gpt4\", \"response_orca\", \"wiki_response_orca\",\n",
    "#               \"response_falcon\", \"wiki_response_falcon\", \"response_llama\", \"wiki_response_llama\", \"response_llama3\", \n",
    "#               \"wiki_response_llama3\", \"wiki_text_y\", \"bart_sum\", \"gensim_sum\"]\n",
    "\n",
    "text_columns_renamed = {\n",
    "    'response_gpt3': 'GPT3', \n",
    "    'wiki_response_gpt3': 'wiki_GPT3',\n",
    "    'response_gpt4':'GPT4',\n",
    "    'wiki_response_gpt4': 'wiki_GPT4',\n",
    "    'response_orca':'Orca', \n",
    "    'wiki_response_orca': 'wiki_Orca', \n",
    "    'response_falcon': 'Falcon',\n",
    "    'wiki_response_falcon': 'wiki_Falcon', \n",
    "    'response_llama':'Llama',\n",
    "    'wiki_response_llama':'wiki_Llama', \n",
    "    'response_llama3':'Llama3',\n",
    "    'wiki_response_llama3':'wiki_Llama3',\n",
    "    'wiki_text_y': 'Wikipedia', \n",
    "    'bart_sum': 'Bart', \n",
    "    'gensim_sum' : 'Gensim'}\n",
    "\n",
    "df_text = df[text_columns]\n",
    "\n",
    "df_text = df.rename(columns=text_columns_renamed)"
   ]
  },
  {
   "cell_type": "code",
   "execution_count": 3,
   "id": "1911a91d-0186-4ba5-b23f-8e0cdc98e37e",
   "metadata": {},
   "outputs": [],
   "source": [
    "import os\n",
    "\n",
    "# save sample of data to be used in thesis\n",
    "sample_text = 'sample_text.csv'\n",
    "sample_df_text = df_text.iloc[0:1].to_csv(sample_text, index=False)"
   ]
  },
  {
   "cell_type": "markdown",
   "id": "a82d0903-08fc-46a8-b59d-758bf5fac7d6",
   "metadata": {},
   "source": [
    "MAL"
   ]
  },
  {
   "cell_type": "markdown",
   "id": "e496f5fb-6837-4329-8885-785577e76f2d",
   "metadata": {},
   "source": [
    "Paragraph - Sentence - Word - Syllable - Phoneme"
   ]
  },
  {
   "cell_type": "code",
   "execution_count": 4,
   "id": "bfaccf9e-3c1a-4370-b860-1beee19f67c8",
   "metadata": {},
   "outputs": [
    {
     "name": "stderr",
     "output_type": "stream",
     "text": [
      "[nltk_data] Downloading package punkt to /home/magdalena/nltk_data...\n",
      "[nltk_data]   Package punkt is already up-to-date!\n"
     ]
    }
   ],
   "source": [
    "from helpers.TextManipulations import split_text_into_sentences\n",
    "from helpers.TextManipulations import perform_text_preprocessing\n",
    "from algorithms.MAL.MAL import create_sentences_length_in_paragraph_dict\n",
    "from algorithms.MAL.MAL import perform_word_split\n",
    "from algorithms.MAL.MAL import create_words_length_in_sentence_dict\n",
    "from algorithms.MAL.MAL import count_sentences_length_in_paragraph_dict\n",
    "from algorithms.MAL.MAL import average_sentences_length_in_paragraph_dict_single\n",
    "from algorithms.MAL.MAL import average_sentences_length_in_paragraph_dict\n",
    "from algorithms.MAL.MAL import print_sorted\n",
    "from algorithms.MAL.MAL import perform_syllable_split\n",
    "from algorithms.MAL.MAL import create_words_length_in_sentence_dict\n",
    "from algorithms.MAL.MAL import count_sentences_length_in_paragraph_dict\n",
    "from algorithms.MAL.MAL import average_sentences_length_in_paragraph_dict_single\n",
    "from algorithms.MAL.MAL import average_sentences_length_in_paragraph_dict\n",
    "from algorithms.MAL.MAL import perform_phoneme_split\n",
    "from algorithms.MAL.MAL import count_sentences_length_in_paragraph_dict\n",
    "from algorithms.MAL.MAL import average_sentences_length_in_paragraph_dict_single\n",
    "from algorithms.MAL.MAL import average_sentences_length_in_paragraph_dict\n",
    "from algorithms.MAL.MAL import find_A_b_numerically_truncated\n",
    "from algorithms.MAL.MAL import find_A_b_numerically_full\n",
    "\n",
    "\n",
    "\n",
    "def perform_mal(paragraphs)-> float:\n",
    "    #print(\"Paragraphs\")\n",
    "    #print(paragraphs)\n",
    "    sentences = [split_text_into_sentences(element) for element in paragraphs]\n",
    "    #print(\"Sentences\")\n",
    "    #print(sentences)\n",
    "    sentences_normalized = [[perform_text_preprocessing(string) for string in inner_list] for inner_list in sentences]\n",
    "    #print(\"Sentences Normalized\")\n",
    "    #print(sentences_normalized)\n",
    "    sentences_dict = create_sentences_length_in_paragraph_dict(sentences_normalized)\n",
    "    #print(\"Sentences Dict\")\n",
    "    #print(sentences_dict)\n",
    "    sentences_dict_split = perform_word_split(sentences_dict)\n",
    "    #print(\"sentences_dict_split\")\n",
    "    #print(sentences_dict_split)\n",
    "    words_dict = create_words_length_in_sentence_dict(sentences_dict_split)\n",
    "    words_dict.pop(0, None) # remove sentence of length zero if encountered\n",
    "    #print(\"words_dict\")\n",
    "    #print(words_dict)\n",
    "    sentences_dict_split_counted = count_sentences_length_in_paragraph_dict(sentences_dict_split) \n",
    "    #print(\"sentences_dict_split_counted\")\n",
    "    #print(sentences_dict_split_counted)\n",
    "    sentences_dict_split_counted_average_single = average_sentences_length_in_paragraph_dict_single(sentences_dict_split_counted) \n",
    "\n",
    "    # Level 1: Paragraph - Sentence - Word (X_1, Y_1)\n",
    "    X_1_Y_1 = average_sentences_length_in_paragraph_dict(sentences_dict_split_counted_average_single) \n",
    "    # print_sorted(X_1_Y_1)\n",
    "    # Level 2: Sentence - Word - Syllable (X_2, Y_2)\n",
    "    words_dict_split = perform_syllable_split(words_dict)\n",
    "    syllables_dict = create_words_length_in_sentence_dict(words_dict_split) \n",
    "    words_dict_split_counted = count_sentences_length_in_paragraph_dict(words_dict_split) \n",
    "    words_dict_split_counted_average_single = average_sentences_length_in_paragraph_dict_single(words_dict_split_counted) \n",
    "    X_2_Y_2 = average_sentences_length_in_paragraph_dict(words_dict_split_counted_average_single) \n",
    "    # print_sorted(X_2_Y_2)\n",
    "    syllables_dict_split = perform_phoneme_split(syllables_dict)\n",
    "    syllables_dict_split_counted = count_sentences_length_in_paragraph_dict(syllables_dict_split) \n",
    "\n",
    "    # Level 3: Word - Syllable - Phoneme (X_3, Y_3)\n",
    "    syllables_dict_split_counted_average_single = average_sentences_length_in_paragraph_dict_single(syllables_dict_split_counted) \n",
    "    X_3_Y_3 = average_sentences_length_in_paragraph_dict(syllables_dict_split_counted_average_single) \n",
    "    #print_sorted(X_3_Y_3)\n",
    "\n",
    "    a_1, b_1 = find_A_b_numerically_truncated(X_1_Y_1)\n",
    "    #print(b_1)\n",
    "    a_2, b_2 = find_A_b_numerically_truncated(X_2_Y_2)\n",
    "    #print(b_2)\n",
    "    a_3, b_3 = find_A_b_numerically_truncated(X_3_Y_3)\n",
    "    #print(b_3)\n",
    "\n",
    "    D_trun = 3 / (b_1 + b_2 + b_3)\n",
    "\n",
    "    a_1, b_1, c_1 = find_A_b_numerically_full(X_1_Y_1)\n",
    "    #print(b_1)\n",
    "    a_2, b_2, c_2 = find_A_b_numerically_full(X_2_Y_2)\n",
    "    #print(b_2)\n",
    "    a_3, b_3, c_3 = find_A_b_numerically_full(X_3_Y_3)\n",
    "    #print(b_3)\n",
    "\n",
    "    D_full = 3 / (b_1 + b_2 + b_3)\n",
    "    return D_trun, D_full"
   ]
  },
  {
   "cell_type": "code",
   "execution_count": 5,
   "id": "fc6b0615-1090-4c2a-adf9-d41cddb58842",
   "metadata": {},
   "outputs": [],
   "source": [
    "def clean_and_convert_to_list(series):\n",
    "    nonan_series = series.dropna()\n",
    "    result = nonan_series.astype(str).values.flatten().tolist()\n",
    "    return result"
   ]
  },
  {
   "cell_type": "code",
   "execution_count": 6,
   "id": "df8ef0a0-5fa9-49a4-855d-1f7c39461182",
   "metadata": {},
   "outputs": [
    {
     "name": "stderr",
     "output_type": "stream",
     "text": [
      "/home/magdalena/Informatyka-Stosowana/Praca magisterska/implementacje/repo/fractal/algorithms/MAL/MAL.py:138: RuntimeWarning: overflow encountered in exp\n",
      "  return a * pow(x, -b) * np.exp(-c * x)\n",
      "/home/magdalena/Informatyka-Stosowana/Praca magisterska/implementacje/repo/fractal/algorithms/MAL/MAL.py:138: RuntimeWarning: overflow encountered in multiply\n",
      "  return a * pow(x, -b) * np.exp(-c * x)\n",
      "/home/magdalena/Informatyka-Stosowana/Praca magisterska/implementacje/repo/fractal/algorithms/MAL/MAL.py:138: RuntimeWarning: overflow encountered in exp\n",
      "  return a * pow(x, -b) * np.exp(-c * x)\n",
      "/home/magdalena/Informatyka-Stosowana/Praca magisterska/implementacje/repo/fractal/algorithms/MAL/MAL.py:138: RuntimeWarning: overflow encountered in multiply\n",
      "  return a * pow(x, -b) * np.exp(-c * x)\n",
      "/home/magdalena/Informatyka-Stosowana/Praca magisterska/implementacje/repo/fractal/algorithms/MAL/MAL.py:138: RuntimeWarning: overflow encountered in exp\n",
      "  return a * pow(x, -b) * np.exp(-c * x)\n",
      "/home/magdalena/Informatyka-Stosowana/Praca magisterska/implementacje/repo/fractal/algorithms/MAL/MAL.py:138: RuntimeWarning: overflow encountered in multiply\n",
      "  return a * pow(x, -b) * np.exp(-c * x)\n",
      "/home/magdalena/Informatyka-Stosowana/Praca magisterska/implementacje/repo/fractal/algorithms/MAL/MAL.py:138: RuntimeWarning: overflow encountered in exp\n",
      "  return a * pow(x, -b) * np.exp(-c * x)\n",
      "/home/magdalena/Informatyka-Stosowana/Praca magisterska/implementacje/repo/fractal/algorithms/MAL/MAL.py:138: RuntimeWarning: overflow encountered in multiply\n",
      "  return a * pow(x, -b) * np.exp(-c * x)\n",
      "/home/magdalena/Informatyka-Stosowana/Praca magisterska/implementacje/repo/fractal/algorithms/MAL/MAL.py:138: RuntimeWarning: overflow encountered in multiply\n",
      "  return a * pow(x, -b) * np.exp(-c * x)\n",
      "/home/magdalena/Informatyka-Stosowana/Praca magisterska/implementacje/repo/fractal/algorithms/MAL/MAL.py:138: RuntimeWarning: overflow encountered in exp\n",
      "  return a * pow(x, -b) * np.exp(-c * x)\n",
      "/home/magdalena/Informatyka-Stosowana/Praca magisterska/implementacje/repo/fractal/algorithms/MAL/MAL.py:138: RuntimeWarning: overflow encountered in exp\n",
      "  return a * pow(x, -b) * np.exp(-c * x)\n",
      "/home/magdalena/Informatyka-Stosowana/Praca magisterska/implementacje/repo/fractal/algorithms/MAL/MAL.py:138: RuntimeWarning: overflow encountered in multiply\n",
      "  return a * pow(x, -b) * np.exp(-c * x)\n",
      "/home/magdalena/Informatyka-Stosowana/Praca magisterska/implementacje/repo/fractal/algorithms/MAL/MAL.py:138: RuntimeWarning: overflow encountered in power\n",
      "  return a * pow(x, -b) * np.exp(-c * x)\n",
      "/home/magdalena/Informatyka-Stosowana/Praca magisterska/implementacje/repo/fractal/algorithms/MAL/MAL.py:138: RuntimeWarning: overflow encountered in exp\n",
      "  return a * pow(x, -b) * np.exp(-c * x)\n",
      "/home/magdalena/Informatyka-Stosowana/Praca magisterska/implementacje/repo/fractal/algorithms/MAL/MAL.py:138: RuntimeWarning: overflow encountered in multiply\n",
      "  return a * pow(x, -b) * np.exp(-c * x)\n",
      "/home/magdalena/Informatyka-Stosowana/Praca magisterska/implementacje/repo/fractal/algorithms/MAL/MAL.py:138: RuntimeWarning: overflow encountered in exp\n",
      "  return a * pow(x, -b) * np.exp(-c * x)\n",
      "/home/magdalena/Informatyka-Stosowana/Praca magisterska/implementacje/repo/fractal/algorithms/MAL/MAL.py:138: RuntimeWarning: overflow encountered in multiply\n",
      "  return a * pow(x, -b) * np.exp(-c * x)\n",
      "/home/magdalena/Informatyka-Stosowana/Praca magisterska/implementacje/repo/fractal/algorithms/MAL/MAL.py:138: RuntimeWarning: overflow encountered in exp\n",
      "  return a * pow(x, -b) * np.exp(-c * x)\n",
      "/home/magdalena/Informatyka-Stosowana/Praca magisterska/implementacje/repo/fractal/algorithms/MAL/MAL.py:138: RuntimeWarning: overflow encountered in multiply\n",
      "  return a * pow(x, -b) * np.exp(-c * x)\n",
      "/home/magdalena/Informatyka-Stosowana/Praca magisterska/implementacje/repo/fractal/algorithms/MAL/MAL.py:138: RuntimeWarning: overflow encountered in exp\n",
      "  return a * pow(x, -b) * np.exp(-c * x)\n",
      "/home/magdalena/Informatyka-Stosowana/Praca magisterska/implementacje/repo/fractal/algorithms/MAL/MAL.py:138: RuntimeWarning: overflow encountered in multiply\n",
      "  return a * pow(x, -b) * np.exp(-c * x)\n",
      "/home/magdalena/Informatyka-Stosowana/Praca magisterska/implementacje/repo/fractal/algorithms/MAL/MAL.py:138: RuntimeWarning: overflow encountered in power\n",
      "  return a * pow(x, -b) * np.exp(-c * x)\n",
      "/home/magdalena/Informatyka-Stosowana/Praca magisterska/implementacje/repo/fractal/algorithms/MAL/MAL.py:138: RuntimeWarning: overflow encountered in exp\n",
      "  return a * pow(x, -b) * np.exp(-c * x)\n",
      "/home/magdalena/Informatyka-Stosowana/Praca magisterska/implementacje/repo/fractal/algorithms/MAL/MAL.py:138: RuntimeWarning: overflow encountered in multiply\n",
      "  return a * pow(x, -b) * np.exp(-c * x)\n",
      "/home/magdalena/Informatyka-Stosowana/Praca magisterska/implementacje/repo/fractal/algorithms/MAL/MAL.py:138: RuntimeWarning: overflow encountered in exp\n",
      "  return a * pow(x, -b) * np.exp(-c * x)\n",
      "/home/magdalena/Informatyka-Stosowana/Praca magisterska/implementacje/repo/fractal/algorithms/MAL/MAL.py:138: RuntimeWarning: overflow encountered in multiply\n",
      "  return a * pow(x, -b) * np.exp(-c * x)\n",
      "/home/magdalena/Informatyka-Stosowana/Praca magisterska/implementacje/repo/fractal/algorithms/MAL/MAL.py:138: RuntimeWarning: overflow encountered in power\n",
      "  return a * pow(x, -b) * np.exp(-c * x)\n",
      "/home/magdalena/Informatyka-Stosowana/Praca magisterska/implementacje/repo/fractal/algorithms/MAL/MAL.py:138: RuntimeWarning: overflow encountered in exp\n",
      "  return a * pow(x, -b) * np.exp(-c * x)\n",
      "/home/magdalena/Informatyka-Stosowana/Praca magisterska/implementacje/repo/fractal/algorithms/MAL/MAL.py:138: RuntimeWarning: overflow encountered in multiply\n",
      "  return a * pow(x, -b) * np.exp(-c * x)\n",
      "/home/magdalena/Informatyka-Stosowana/Praca magisterska/implementacje/repo/fractal/algorithms/MAL/MAL.py:138: RuntimeWarning: overflow encountered in power\n",
      "  return a * pow(x, -b) * np.exp(-c * x)\n",
      "/home/magdalena/Informatyka-Stosowana/Praca magisterska/implementacje/repo/fractal/algorithms/MAL/MAL.py:138: RuntimeWarning: overflow encountered in exp\n",
      "  return a * pow(x, -b) * np.exp(-c * x)\n",
      "/home/magdalena/Informatyka-Stosowana/Praca magisterska/implementacje/repo/fractal/algorithms/MAL/MAL.py:138: RuntimeWarning: overflow encountered in multiply\n",
      "  return a * pow(x, -b) * np.exp(-c * x)\n",
      "/home/magdalena/Informatyka-Stosowana/Praca magisterska/implementacje/repo/fractal/algorithms/MAL/MAL.py:138: RuntimeWarning: overflow encountered in exp\n",
      "  return a * pow(x, -b) * np.exp(-c * x)\n",
      "/home/magdalena/Informatyka-Stosowana/Praca magisterska/implementacje/repo/fractal/algorithms/MAL/MAL.py:138: RuntimeWarning: overflow encountered in multiply\n",
      "  return a * pow(x, -b) * np.exp(-c * x)\n",
      "/home/magdalena/Informatyka-Stosowana/Praca magisterska/implementacje/repo/fractal/algorithms/MAL/MAL.py:138: RuntimeWarning: overflow encountered in power\n",
      "  return a * pow(x, -b) * np.exp(-c * x)\n",
      "/home/magdalena/Informatyka-Stosowana/Praca magisterska/implementacje/repo/fractal/algorithms/MAL/MAL.py:138: RuntimeWarning: overflow encountered in exp\n",
      "  return a * pow(x, -b) * np.exp(-c * x)\n",
      "/home/magdalena/Informatyka-Stosowana/Praca magisterska/implementacje/repo/fractal/algorithms/MAL/MAL.py:138: RuntimeWarning: overflow encountered in multiply\n",
      "  return a * pow(x, -b) * np.exp(-c * x)\n",
      "/home/magdalena/Informatyka-Stosowana/Praca magisterska/implementacje/repo/fractal/algorithms/MAL/MAL.py:148: RuntimeWarning: overflow encountered in power\n",
      "  return a * pow(x, -b)\n",
      "/home/magdalena/Informatyka-Stosowana/Praca magisterska/implementacje/repo/fractal/algorithms/MAL/MAL.py:138: RuntimeWarning: overflow encountered in power\n",
      "  return a * pow(x, -b) * np.exp(-c * x)\n",
      "/home/magdalena/Informatyka-Stosowana/Praca magisterska/implementacje/repo/fractal/algorithms/MAL/MAL.py:138: RuntimeWarning: overflow encountered in exp\n",
      "  return a * pow(x, -b) * np.exp(-c * x)\n",
      "/home/magdalena/Informatyka-Stosowana/Praca magisterska/implementacje/repo/fractal/algorithms/MAL/MAL.py:138: RuntimeWarning: overflow encountered in multiply\n",
      "  return a * pow(x, -b) * np.exp(-c * x)\n",
      "/home/magdalena/Informatyka-Stosowana/Praca magisterska/implementacje/repo/fractal/algorithms/MAL/MAL.py:138: RuntimeWarning: invalid value encountered in multiply\n",
      "  return a * pow(x, -b) * np.exp(-c * x)\n",
      "/home/magdalena/Informatyka-Stosowana/Praca magisterska/implementacje/repo/fractal/algorithms/MAL/MAL.py:138: RuntimeWarning: overflow encountered in power\n",
      "  return a * pow(x, -b) * np.exp(-c * x)\n",
      "/home/magdalena/Informatyka-Stosowana/Praca magisterska/implementacje/repo/fractal/algorithms/MAL/MAL.py:138: RuntimeWarning: overflow encountered in exp\n",
      "  return a * pow(x, -b) * np.exp(-c * x)\n",
      "/home/magdalena/Informatyka-Stosowana/Praca magisterska/implementacje/repo/fractal/algorithms/MAL/MAL.py:138: RuntimeWarning: overflow encountered in multiply\n",
      "  return a * pow(x, -b) * np.exp(-c * x)\n"
     ]
    },
    {
     "name": "stdout",
     "output_type": "stream",
     "text": [
      "(7.635130099755828, 6.762130462576433, 4.906105945598152, 4.252187298906017, 5.634261450173764, 7.7732902189700965, 6.040038749349263, 4.526408022184367, 5.693638756296708, 5.2669014946495505, 7.801850542623138, 7.62600040859855, 3.8672955752764415, 3.0644727902325783, 3.1461641262759246, 4.079055493821979, 4.032072513140059, 4.246763324595334, 10.265167231018722)\n",
      "(1.7319335798118896, 3.4059144655700857, -27.56221031055833, -332.0938631665155, 10.23322566539091, -10.07089487454804, -9.471826509997278, -65.71363220516754, -19.980794456008542, -3.160791375165371, 24.842133678298136, 7.375975143348243, 3.185641077497482, 2.3246492155039626, 2.955990858973552, 4.815640296025207, -0.7214871672614355, 6.226467800863938, 6.649823206955635)\n"
     ]
    },
    {
     "name": "stderr",
     "output_type": "stream",
     "text": [
      "/home/magdalena/Informatyka-Stosowana/Praca magisterska/implementacje/repo/fractal/algorithms/MAL/MAL.py:138: RuntimeWarning: overflow encountered in exp\n",
      "  return a * pow(x, -b) * np.exp(-c * x)\n",
      "/home/magdalena/Informatyka-Stosowana/Praca magisterska/implementacje/repo/fractal/algorithms/MAL/MAL.py:138: RuntimeWarning: overflow encountered in multiply\n",
      "  return a * pow(x, -b) * np.exp(-c * x)\n"
     ]
    }
   ],
   "source": [
    "D_trun_s, D_full_s = zip(*[perform_mal(clean_and_convert_to_list(df[column])) for column in text_columns])\n",
    "print(D_trun_s)\n",
    "print(D_full_s)"
   ]
  },
  {
   "cell_type": "code",
   "execution_count": 7,
   "id": "d9843682-898a-4670-89c8-a740ce093457",
   "metadata": {},
   "outputs": [
    {
     "data": {
      "image/png": "[encoded data removed]",
      "text/plain": [
       "<Figure size 1000x500 with 1 Axes>"
      ]
     },
     "metadata": {},
     "output_type": "display_data"
    },
    {
     "data": {
      "image/png": "[encoded data removed]",
      "text/plain": [
       "<Figure size 1000x500 with 1 Axes>"
      ]
     },
     "metadata": {},
     "output_type": "display_data"
    }
   ],
   "source": [
    "import matplotlib.pyplot as plt\n",
    "\n",
    "def plot_scatter(D_s, text_coulmns, title, algorithm):\n",
    "    plt.figure(figsize=(10, 5))\n",
    "    plt.scatter(range(len(D_s)), D_s, color='blue', zorder=5)\n",
    "\n",
    "    plt.xticks(range(len(text_coulmns)), [text_columns_renamed.get(key, key) for key in text_coulmns], rotation=45, ha=\"right\")\n",
    "\n",
    "    plt.xlabel('Source')\n",
    "    plt.ylabel('Fractal dimension')\n",
    "    plt.title(title)\n",
    "    \n",
    "    for i, label in enumerate(text_coulmns):\n",
    "        plt.vlines(i, ymin=0, ymax=D_s[i], colors='gray', linestyles='dotted')\n",
    "\n",
    "    plt.tight_layout()\n",
    "    plt.savefig(f'dane_wiki_final_{algorithm}.png')\n",
    "    plt.show()\n",
    "\n",
    "plot_scatter(D_trun_s, text_columns, 'Fractal dimension for different text sources using truncated formula', 'MAL')\n",
    "plot_scatter(D_full_s, text_columns, 'Fractal dimension for different text sources using full formula', 'MAL')"
   ]
  },
  {
   "cell_type": "markdown",
   "id": "85699fbb-ae62-494e-9a59-2ca8d9214f89",
   "metadata": {},
   "source": [
    "Partition Data"
   ]
  },
  {
   "cell_type": "code",
   "execution_count": 8,
   "id": "875671b1-3ee7-4ae3-ada0-a8793837e23f",
   "metadata": {},
   "outputs": [],
   "source": [
    "def apply_MAL_in_partitions(df, text_columns, partition_length, perform_mal):\n",
    "    results = {}\n",
    "    for column in text_columns:\n",
    "        column_nonan = df[column].fillna('')\n",
    "        col_values = clean_and_convert_to_list(df[column])      \n",
    "\n",
    "        partitions = [col_values[i:i + partition_length] for i in range(0, len(col_values), partition_length)]\n",
    "\n",
    "        for idx, partition in enumerate(partitions):\n",
    "            results[(column, idx)] = perform_mal(partition)\n",
    "    return results"
   ]
  },
  {
   "cell_type": "code",
   "execution_count": null,
   "id": "14612085-0fc7-4962-80ba-260319957fcd",
   "metadata": {},
   "outputs": [
    {
     "name": "stderr",
     "output_type": "stream",
     "text": [
      "/home/magdalena/Informatyka-Stosowana/Praca magisterska/implementacje/repo/fractal/algorithms/MAL/MAL.py:138: RuntimeWarning: overflow encountered in exp\n",
      "  return a * pow(x, -b) * np.exp(-c * x)\n",
      "/home/magdalena/Informatyka-Stosowana/Praca magisterska/implementacje/repo/fractal/algorithms/MAL/MAL.py:138: RuntimeWarning: overflow encountered in multiply\n",
      "  return a * pow(x, -b) * np.exp(-c * x)\n",
      "/home/magdalena/Informatyka-Stosowana/Praca magisterska/implementacje/repo/fractal/algorithms/MAL/MAL.py:138: RuntimeWarning: overflow encountered in exp\n",
      "  return a * pow(x, -b) * np.exp(-c * x)\n",
      "/home/magdalena/Informatyka-Stosowana/Praca magisterska/implementacje/repo/fractal/algorithms/MAL/MAL.py:138: RuntimeWarning: overflow encountered in multiply\n",
      "  return a * pow(x, -b) * np.exp(-c * x)\n",
      "/home/magdalena/Informatyka-Stosowana/Praca magisterska/implementacje/repo/fractal/algorithms/MAL/MAL.py:138: RuntimeWarning: overflow encountered in exp\n",
      "  return a * pow(x, -b) * np.exp(-c * x)\n",
      "/home/magdalena/Informatyka-Stosowana/Praca magisterska/implementacje/repo/fractal/algorithms/MAL/MAL.py:138: RuntimeWarning: overflow encountered in multiply\n",
      "  return a * pow(x, -b) * np.exp(-c * x)\n",
      "/home/magdalena/Informatyka-Stosowana/Praca magisterska/implementacje/repo/fractal/algorithms/MAL/MAL.py:138: RuntimeWarning: overflow encountered in exp\n",
      "  return a * pow(x, -b) * np.exp(-c * x)\n",
      "/home/magdalena/Informatyka-Stosowana/Praca magisterska/implementacje/repo/fractal/algorithms/MAL/MAL.py:138: RuntimeWarning: overflow encountered in multiply\n",
      "  return a * pow(x, -b) * np.exp(-c * x)\n",
      "/home/magdalena/Informatyka-Stosowana/Praca magisterska/implementacje/repo/fractal/algorithms/MAL/MAL.py:138: RuntimeWarning: overflow encountered in power\n",
      "  return a * pow(x, -b) * np.exp(-c * x)\n",
      "/home/magdalena/Informatyka-Stosowana/Praca magisterska/implementacje/repo/fractal/algorithms/MAL/MAL.py:138: RuntimeWarning: overflow encountered in exp\n",
      "  return a * pow(x, -b) * np.exp(-c * x)\n",
      "/home/magdalena/Informatyka-Stosowana/Praca magisterska/implementacje/repo/fractal/algorithms/MAL/MAL.py:138: RuntimeWarning: overflow encountered in multiply\n",
      "  return a * pow(x, -b) * np.exp(-c * x)\n",
      "/home/magdalena/Informatyka-Stosowana/Praca magisterska/implementacje/repo/fractal/algorithms/MAL/MAL.py:138: RuntimeWarning: overflow encountered in exp\n",
      "  return a * pow(x, -b) * np.exp(-c * x)\n",
      "/home/magdalena/Informatyka-Stosowana/Praca magisterska/implementacje/repo/fractal/algorithms/MAL/MAL.py:138: RuntimeWarning: overflow encountered in multiply\n",
      "  return a * pow(x, -b) * np.exp(-c * x)\n",
      "/home/magdalena/Informatyka-Stosowana/Praca magisterska/implementacje/repo/fractal/algorithms/MAL/MAL.py:138: RuntimeWarning: overflow encountered in power\n",
      "  return a * pow(x, -b) * np.exp(-c * x)\n",
      "/home/magdalena/Informatyka-Stosowana/Praca magisterska/implementacje/repo/fractal/algorithms/MAL/MAL.py:138: RuntimeWarning: overflow encountered in exp\n",
      "  return a * pow(x, -b) * np.exp(-c * x)\n",
      "/home/magdalena/Informatyka-Stosowana/Praca magisterska/implementacje/repo/fractal/algorithms/MAL/MAL.py:138: RuntimeWarning: overflow encountered in multiply\n",
      "  return a * pow(x, -b) * np.exp(-c * x)\n",
      "/home/magdalena/Informatyka-Stosowana/Praca magisterska/implementacje/repo/fractal/algorithms/MAL/MAL.py:138: RuntimeWarning: overflow encountered in power\n",
      "  return a * pow(x, -b) * np.exp(-c * x)\n",
      "/home/magdalena/Informatyka-Stosowana/Praca magisterska/implementacje/repo/fractal/algorithms/MAL/MAL.py:138: RuntimeWarning: overflow encountered in exp\n",
      "  return a * pow(x, -b) * np.exp(-c * x)\n",
      "/home/magdalena/Informatyka-Stosowana/Praca magisterska/implementacje/repo/fractal/algorithms/MAL/MAL.py:138: RuntimeWarning: overflow encountered in multiply\n",
      "  return a * pow(x, -b) * np.exp(-c * x)\n",
      "/home/magdalena/Informatyka-Stosowana/Praca magisterska/implementacje/repo/fractal/algorithms/MAL/MAL.py:138: RuntimeWarning: overflow encountered in multiply\n",
      "  return a * pow(x, -b) * np.exp(-c * x)\n",
      "/home/magdalena/Informatyka-Stosowana/Praca magisterska/implementacje/repo/fractal/algorithms/MAL/MAL.py:138: RuntimeWarning: overflow encountered in exp\n",
      "  return a * pow(x, -b) * np.exp(-c * x)\n",
      "/home/magdalena/Informatyka-Stosowana/Praca magisterska/implementacje/repo/fractal/algorithms/MAL/MAL.py:138: RuntimeWarning: overflow encountered in exp\n",
      "  return a * pow(x, -b) * np.exp(-c * x)\n",
      "/home/magdalena/Informatyka-Stosowana/Praca magisterska/implementacje/repo/fractal/algorithms/MAL/MAL.py:138: RuntimeWarning: overflow encountered in multiply\n",
      "  return a * pow(x, -b) * np.exp(-c * x)\n",
      "/home/magdalena/Informatyka-Stosowana/Praca magisterska/implementacje/repo/fractal/algorithms/MAL/MAL.py:138: RuntimeWarning: overflow encountered in exp\n",
      "  return a * pow(x, -b) * np.exp(-c * x)\n",
      "/home/magdalena/Informatyka-Stosowana/Praca magisterska/implementacje/repo/fractal/algorithms/MAL/MAL.py:138: RuntimeWarning: overflow encountered in multiply\n",
      "  return a * pow(x, -b) * np.exp(-c * x)\n"
     ]
    }
   ],
   "source": [
    "partition_length = 700\n",
    "D_s = apply_MAL_in_partitions(df, text_columns, partition_length, perform_mal)\n",
    "print(D_s)"
   ]
  },
  {
   "cell_type": "code",
   "execution_count": null,
   "id": "a80543f7-c73c-4f7a-8c23-4726babbe1d6",
   "metadata": {},
   "outputs": [],
   "source": [
    "import matplotlib.pyplot as plt\n",
    "\n",
    "def bar_plot(results):\n",
    "    plt.figure(figsize=(12, 6))\n",
    "    labels = [f\"{col}_part{i}\" for col, i in results.keys()]\n",
    "    values = list(results.values())\n",
    "\n",
    "    plt.bar(range(len(results)), values, color='blue', alpha=0.7)\n",
    "    plt.xlabel('Partition')\n",
    "    plt.ylabel('Result from MAL')\n",
    "    plt.title('Results of MAL Applied to Partitions of Columns')\n",
    "    plt.xticks(range(len(results)), labels, rotation=45, ha='right')\n",
    "    plt.tight_layout()\n",
    "    plt.show()"
   ]
  },
  {
   "cell_type": "code",
   "execution_count": null,
   "id": "621c8311-b66d-4f02-9866-9310fbef519f",
   "metadata": {},
   "outputs": [],
   "source": [
    "#bar_plot(D_s)"
   ]
  },
  {
   "cell_type": "markdown",
   "id": "96fd5d91-a5e8-4186-b1d9-ac8b2bc90dc6",
   "metadata": {},
   "source": [
    "Data with pos to list transformation"
   ]
  },
  {
   "cell_type": "code",
   "execution_count": null,
   "id": "849d1a49-386f-4d73-a4ca-a220c0ff5f54",
   "metadata": {},
   "outputs": [],
   "source": [
    "#pos_columns = [\"pos_gpt3\", \"wiki_pos_gpt3\", \"pos_gpt4\", \"wiki_pos_gpt4\", \"pos_orca\", \"wiki_pos_orca\", \"pos_falcon\",\n",
    "#               \"wiki_pos_falcon\", \"pos_llama\", \"wiki_pos_llama\", \"pos_llama3\", \"wiki_pos_llama3\", \"text_pos\", \"sumy_pos\",\n",
    "#              \"bart_pos\", \"ts_pos\", \"gensim_pos\"]\n",
    "\n",
    "pos_columns = [\"pos_gpt3\", \"wiki_pos_gpt3\", \"pos_gpt4\", \"wiki_pos_gpt4\", \"pos_orca\", \"wiki_pos_orca\", \"pos_falcon\",\n",
    "               \"wiki_pos_falcon\", \"pos_llama\", \"wiki_pos_llama\", \"pos_llama3\", \"wiki_pos_llama3\", \"text_pos\",\n",
    "              \"bart_pos\", \"gensim_pos\"]\n",
    "\n",
    "dict_pos_to_response = {\n",
    "    \"pos_gpt3\": \"response_gpt3\",\n",
    "    \"wiki_pos_gpt3\": \"wiki_response_gpt3\",\n",
    "    \"pos_gpt4\":\"response_gpt4\",\n",
    "    \"wiki_pos_gpt4\":\"wiki_response_gpt4\",\n",
    "    \"pos_orca\":\"response_orca\",\n",
    "    \"wiki_pos_orca\":\"wiki_response_orca\",\n",
    "    \"pos_falcon\":\"response_falcon\",\n",
    "    \"wiki_pos_falcon\":\"wiki_response_falcon\",\n",
    "    \"pos_llama\":\"response_llama\",\n",
    "    \"wiki_pos_llama\":\"wiki_response_llama\",\n",
    "    \"pos_llama3\":\"response_llama3\",\n",
    "    \"wiki_pos_llama3\":\"wiki_response_llama3\",\n",
    "    \"text_pos\":\"text\",\n",
    "    \"bart_pos\":\"bart_sum\",\n",
    "    \"gensim_pos\":\"gensim_sum\"\n",
    "}\n",
    "\n",
    "pos_df = df[pos_columns]\n",
    "pos_df.info()"
   ]
  },
  {
   "cell_type": "code",
   "execution_count": null,
   "id": "32120e00-c294-458b-a676-a3b43615dad7",
   "metadata": {},
   "outputs": [],
   "source": [
    "import ast\n",
    "\n",
    "# util function to convert list in a cell to python list\n",
    "def convert_to_list(cell):\n",
    "    try:\n",
    "        return ast.literal_eval(cell)\n",
    "    except (ValueError, SyntaxError):\n",
    "        return cell\n",
    "\n",
    "pos_df_list = pos_df.applymap(convert_to_list) \n",
    "pos_df_list.info()"
   ]
  },
  {
   "cell_type": "markdown",
   "id": "a74d1656-2e0d-4b0e-9647-83975de17c9d",
   "metadata": {},
   "source": [
    "Utility functions"
   ]
  },
  {
   "cell_type": "code",
   "execution_count": null,
   "id": "33a2aacf-1b3c-4378-a87b-a96fb7003f67",
   "metadata": {},
   "outputs": [],
   "source": [
    "import pandas as pd\n",
    "import matplotlib.pyplot as plt\n",
    "\n",
    "def box_plot(df, algorithm):\n",
    "    plt.figure(figsize=(17, 12))\n",
    "    df.boxplot()\n",
    "    plt.title(f'Hurst exponent for different text sources calculated using {algorithm}')\n",
    "    plt.xlabel('Source')\n",
    "    plt.ylabel('Hurst exponent')\n",
    "    plt.xticks(rotation=45)  # Rotate column labels if needed\n",
    "    plt.savefig(f'Box_plot_{algorithm}.png')\n",
    "    plt.show()"
   ]
  },
  {
   "cell_type": "code",
   "execution_count": null,
   "id": "66ebd75d-0e09-4cb7-aace-adde931da7c8",
   "metadata": {},
   "outputs": [],
   "source": [
    "import numpy as np\n",
    "\n",
    "def find_outliers(df, bound_limit):\n",
    "    outliers_dict = {}\n",
    "    median_dict = {}\n",
    "    for col in df.columns:\n",
    "        Q1 = np.percentile(df[col], 25)\n",
    "        Q3 = np.percentile(df[col], 75)\n",
    "        IQR = Q3 - Q1\n",
    "        lower_bound = Q1 - bound_limit * IQR\n",
    "        upper_bound = Q3 + bound_limit * IQR\n",
    "        outliers = df[(df[col] < lower_bound) | (df[col] > upper_bound)].index.tolist()\n",
    "        outliers_dict[col] = outliers\n",
    "    return outliers_dict"
   ]
  },
  {
   "cell_type": "code",
   "execution_count": null,
   "id": "46325afb-5bb7-4e9f-9a49-5850a5cdce0c",
   "metadata": {},
   "outputs": [],
   "source": [
    "def print_outliers(df, outliers):\n",
    "    for col, outlier_indices in outliers.items():\n",
    "        print(f\"Column {col} outlier indices: {outlier_indices}\")\n",
    "        print(f\"Column {col} outlier values pos: {df[col][outlier_indices].tolist()}\")\n",
    "        print(f\"Column {col} outlier values text: {df[dict_pos_to_response.get(col)][outlier_indices].tolist()}\")"
   ]
  },
  {
   "cell_type": "markdown",
   "id": "2a4c0d6e-a240-4223-967b-a2201001a215",
   "metadata": {},
   "source": [
    "DFA (each cell separately)"
   ]
  },
  {
   "cell_type": "code",
   "execution_count": null,
   "id": "b321ba0a-e40f-40a1-b343-e06368dee609",
   "metadata": {},
   "outputs": [],
   "source": [
    "from helpers.TimeSeries import construct_its\n",
    "from algorithms.DFA.DFA import perform_dfa\n",
    "\n",
    "def dfa_calculate_cell(cell, ranges):\n",
    "    if len(cell) == 0:\n",
    "        print(f'Cell {cell} has been evaluated to list length 0')\n",
    "        return None\n",
    "    its = construct_its(cell)\n",
    "    estimated_h = perform_dfa(its, ranges)\n",
    "    return estimated_h"
   ]
  },
  {
   "cell_type": "code",
   "execution_count": null,
   "id": "1fca226f-6ffa-4a17-a074-f205b7e2f223",
   "metadata": {},
   "outputs": [],
   "source": [
    "import os\n",
    "\n",
    "h_df_filename_dfa = 'h_df_dfa.csv'\n",
    "\n",
    "def load_or_create_h_df_filename_dfa(pos_df_list):\n",
    "    if os.path.exists(h_df_filename_dfa):\n",
    "        h_df = pd.read_csv(h_df_filename_dfa)\n",
    "    else:\n",
    "        h_df = pos_df_list.applymap(lambda x: dfa_calculate_cell(x, [70, 75, 80, 85, 90, 95, 100, 110, 120, 130, 140, 150, 160, 170]))   \n",
    "        h_df.to_csv(h_df_filename_dfa, index=False)\n",
    "        print(\"DataFrame created and saved to file.\")\n",
    "    return h_df"
   ]
  },
  {
   "cell_type": "code",
   "execution_count": null,
   "id": "619f451f-946a-4a58-ad03-25827b514e82",
   "metadata": {},
   "outputs": [],
   "source": [
    "h_df_dfa = load_or_create_h_df_filename_dfa(pos_df_list)\n",
    "h_df_dfa.info()\n",
    "h_df_dfa.head()"
   ]
  },
  {
   "cell_type": "code",
   "execution_count": null,
   "id": "e9da2bfd-769b-474a-b11d-36831e26eb48",
   "metadata": {},
   "outputs": [],
   "source": [
    "outliers = find_outliers(h_df_dfa, 3)\n",
    "print_outliers(df, outliers)"
   ]
  },
  {
   "cell_type": "code",
   "execution_count": null,
   "id": "a6fcadd0-8c82-4c0c-b157-0feb20d0bfc0",
   "metadata": {},
   "outputs": [],
   "source": [
    "box_plot(h_df_dfa, 'DFA')"
   ]
  },
  {
   "cell_type": "markdown",
   "id": "e1c34671-615c-4858-8b8c-ece5d449bdf6",
   "metadata": {},
   "source": [
    "AFA"
   ]
  },
  {
   "cell_type": "code",
   "execution_count": null,
   "id": "c4d2b4ee-d263-427f-b889-2231c3ee5b56",
   "metadata": {},
   "outputs": [],
   "source": [
    "from helpers.TimeSeries import construct_its\n",
    "from algorithms.AFA.AFA import perform_afa\n",
    "\n",
    "def afa_calculate_cell(cell, ranges):\n",
    "    if len(cell) == 0:\n",
    "        print(f'Cell {cell} has been evaluated to list length 0')\n",
    "        return None\n",
    "    its = construct_its(cell)\n",
    "    estimated_h = perform_afa(its, ranges)\n",
    "    return estimated_h"
   ]
  },
  {
   "cell_type": "code",
   "execution_count": null,
   "id": "210be672-af3d-49e1-bc4f-cfc44946fd0a",
   "metadata": {},
   "outputs": [],
   "source": [
    "import os\n",
    "\n",
    "h_df_filename_afa = 'h_df_afa.csv'\n",
    "\n",
    "def load_or_create_h_df_filename_afa(pos_df_list):\n",
    "    if os.path.exists(h_df_filename_afa):\n",
    "        h_df = pd.read_csv(h_df_filename_afa)\n",
    "    else:\n",
    "        h_df = pos_df_list.applymap(lambda x: afa_calculate_cell(x, [60, 65, 70, 75, 80, 85, 90, 95, 100, 110, 120, 130, 140]))    \n",
    "        h_df.to_csv(h_df_filename_afa, index=False)\n",
    "        print(\"DataFrame created and saved to file.\")\n",
    "    return h_df"
   ]
  },
  {
   "cell_type": "code",
   "execution_count": null,
   "id": "0e8a4345-4c08-4cc6-ba26-ea525106233f",
   "metadata": {},
   "outputs": [],
   "source": [
    "h_df_afa = load_or_create_h_df_filename_afa(pos_df_list)\n",
    "h_df_afa.info()\n",
    "h_df_afa.head()"
   ]
  },
  {
   "cell_type": "code",
   "execution_count": null,
   "id": "ea885210-a291-4712-b267-713fe7b6ecf3",
   "metadata": {},
   "outputs": [],
   "source": [
    "outliers = find_outliers(h_df_afa, 1)\n",
    "print_outliers(df, outliers)"
   ]
  },
  {
   "cell_type": "code",
   "execution_count": null,
   "id": "a319844a-30c8-4fae-b725-b49aa0d53d14",
   "metadata": {},
   "outputs": [],
   "source": [
    "box_plot(h_df_afa, 'AFA')"
   ]
  },
  {
   "cell_type": "markdown",
   "id": "37d4e4e1-44e6-4676-907f-25fbdd1111a7",
   "metadata": {},
   "source": [
    "RRA"
   ]
  },
  {
   "cell_type": "code",
   "execution_count": null,
   "id": "fdbf53bf-d3a7-424b-9dec-ee6d0140b0fb",
   "metadata": {},
   "outputs": [],
   "source": [
    "from helpers.TimeSeries import normalize\n",
    "from algorithms.RRA.RRA import perform_rra\n",
    "\n",
    "def rra_calculate_cell(cell):\n",
    "    if len(cell) == 0:\n",
    "        print(f'Cell {cell} has been evaluated to list length 0')\n",
    "        return None\n",
    "    its = construct_its(cell)\n",
    "    ts_normalized = normalize(cell)\n",
    "    estimated_h = perform_rra(its, ts_normalized)\n",
    "    return estimated_h"
   ]
  },
  {
   "cell_type": "code",
   "execution_count": null,
   "id": "a6d7eb91-58ff-4970-9cff-772a74448c4b",
   "metadata": {},
   "outputs": [],
   "source": [
    "h_df_filename_rra = 'h_df_rra.csv'\n",
    "\n",
    "def load_or_create_h_df_filename_rra(pos_df_list):\n",
    "    if os.path.exists(h_df_filename_rra):\n",
    "        h_df = pd.read_csv(h_df_filename_rra)\n",
    "    else:\n",
    "        h_df = pos_df_list.applymap(rra_calculate_cell)   \n",
    "        h_df.to_csv(h_df_filename_rra, index=False)\n",
    "        print(\"DataFrame created and saved to file.\")\n",
    "    return h_df"
   ]
  },
  {
   "cell_type": "code",
   "execution_count": null,
   "id": "8c081b1e-1160-448e-a09e-d7cfd259fb4d",
   "metadata": {},
   "outputs": [],
   "source": [
    "h_df_rra = load_or_create_h_df_filename_rra(pos_df_list)\n",
    "h_df_rra.info()\n",
    "h_df_rra.head()"
   ]
  },
  {
   "cell_type": "code",
   "execution_count": null,
   "id": "33fb44c6-3116-4648-9297-add3e024afb2",
   "metadata": {},
   "outputs": [],
   "source": [
    "outliers = find_outliers(h_df_rra, 2.5)\n",
    "print_outliers(df, outliers)"
   ]
  },
  {
   "cell_type": "code",
   "execution_count": null,
   "id": "87059794-9279-496d-971d-4340979b20a6",
   "metadata": {},
   "outputs": [],
   "source": [
    "box_plot(h_df_rra, 'RRA')"
   ]
  },
  {
   "cell_type": "markdown",
   "id": "9984fb2e-d51d-4d17-b24b-c57f8dadfa8b",
   "metadata": {},
   "source": [
    "Same as above but on combined cells"
   ]
  },
  {
   "cell_type": "markdown",
   "id": "92d5ba71-16c9-4a98-9064-1723ca52a541",
   "metadata": {},
   "source": [
    "DFA"
   ]
  },
  {
   "cell_type": "code",
   "execution_count": null,
   "id": "e3c88d1b-94f5-42fe-833f-dc721276c7de",
   "metadata": {},
   "outputs": [],
   "source": [
    "def merge_lists(pos_df_list):\n",
    "    pos_df_list_combined = pd.DataFrame()\n",
    "    for col in pos_df_list.columns:\n",
    "        temp = []\n",
    "        for cell_value in pos_df_list[col]:\n",
    "            temp.extend(cell_value)\n",
    "        pos_df_list_combined[col] = [temp]\n",
    "    return pos_df_list_combined\n",
    "        \n",
    "pos_df_list_combined = merge_lists(pos_df_list)\n",
    "pos_df_list_combined.info()\n"
   ]
  },
  {
   "cell_type": "code",
   "execution_count": null,
   "id": "1bfc6fba-b148-4064-88fb-dd9ccd24d237",
   "metadata": {},
   "outputs": [],
   "source": [
    "h_df_filename_dfa_combined = 'h_df_dfa_combined.csv'\n",
    "\n",
    "def load_or_create_h_df_filename_dfa_combined(pos_df_list):\n",
    "    if os.path.exists(h_df_filename_dfa_combined):\n",
    "        h_df = pd.read_csv(h_df_filename_dfa_combined)\n",
    "    else:\n",
    "        h_df = pos_df_list.applymap(lambda x: dfa_calculate_cell(x, [100, 200, 300, 400, 500, 600, 700, 800, 900, 1000, 1100, 1200]))   \n",
    "        h_df.to_csv(h_df_filename_dfa_combined, index=False)\n",
    "        print(\"DataFrame created and saved to file.\")\n",
    "    return h_df"
   ]
  },
  {
   "cell_type": "code",
   "execution_count": null,
   "id": "114a470c-37fc-4440-995d-c0b097c63d55",
   "metadata": {},
   "outputs": [],
   "source": [
    "h_df_dfa_combined = load_or_create_h_df_filename_dfa_combined(pos_df_list_combined)\n",
    "h_df_dfa_combined.info()\n",
    "h_df_dfa_combined.head()"
   ]
  },
  {
   "cell_type": "code",
   "execution_count": null,
   "id": "51cd0757-6391-41eb-a136-f1c64f53683f",
   "metadata": {},
   "outputs": [],
   "source": [
    "plot_scatter(h_df_dfa_combined.values.flatten().tolist(), pos_columns, 'DFA Hurst exponent for different text sources, combined input', 'DFA')"
   ]
  },
  {
   "cell_type": "markdown",
   "id": "da9ae26f-9808-4c73-ba6d-b003019157ac",
   "metadata": {},
   "source": [
    "AFA"
   ]
  },
  {
   "cell_type": "code",
   "execution_count": null,
   "id": "58718708-7c9e-489e-8291-412ec87caf79",
   "metadata": {},
   "outputs": [],
   "source": [
    "h_df_filename_afa_combined = 'h_df_afa_combined.csv'\n",
    "\n",
    "def load_or_create_h_df_filename_afa_combined(pos_df_list):\n",
    "    if os.path.exists(h_df_filename_afa_combined):\n",
    "        h_df = pd.read_csv(h_df_filename_afa_combined)\n",
    "    else:\n",
    "        h_df = pos_df_list.applymap(lambda x: afa_calculate_cell(x, [100, 150, 200, 250, 300, 350, 400, 500, 600, 700, 750, 800, 900, 1000, 1100, 1200]))   \n",
    "        h_df.to_csv(h_df_filename_afa_combined, index=False)\n",
    "        print(\"DataFrame created and saved to file.\")\n",
    "    return h_df"
   ]
  },
  {
   "cell_type": "code",
   "execution_count": null,
   "id": "24e90c13-4b1d-4fd9-8dc8-1d8544710399",
   "metadata": {},
   "outputs": [],
   "source": [
    "h_df_afa_combined = load_or_create_h_df_filename_afa_combined(pos_df_list_combined)\n",
    "h_df_afa_combined.info()\n",
    "h_df_afa_combined.head()"
   ]
  },
  {
   "cell_type": "code",
   "execution_count": null,
   "id": "2f1dac3c-e728-4372-bf61-881328caeba0",
   "metadata": {},
   "outputs": [],
   "source": [
    "plot_scatter(h_df_afa_combined.values.flatten().tolist(), pos_columns, 'AFA Hurst exponent for different text sources, combined input', 'AFA')"
   ]
  },
  {
   "cell_type": "markdown",
   "id": "4c4139b0-7d5e-418e-b7bb-b26dc9619372",
   "metadata": {},
   "source": [
    "RRA"
   ]
  },
  {
   "cell_type": "code",
   "execution_count": null,
   "id": "89cffb86-df1b-4243-8485-f5311ee0088d",
   "metadata": {},
   "outputs": [],
   "source": [
    "from helpers.TimeSeries import construct_its\n",
    "import os\n",
    "\n",
    "h_df_filename_rra_combined = 'h_df_rra_combined.csv'\n",
    "\n",
    "def load_or_create_h_df_filename_rra_combined(pos_df_list):\n",
    "    if os.path.exists(h_df_filename_rra_combined):\n",
    "        h_df = pd.read_csv(h_df_filename_rra_combined)\n",
    "    else:\n",
    "        h_df = pos_df_list.applymap(rra_calculate_cell)   \n",
    "        h_df.to_csv(h_df_filename_rra_combined, index=False)\n",
    "        print(\"DataFrame created and saved to file.\")\n",
    "    return h_df"
   ]
  },
  {
   "cell_type": "code",
   "execution_count": null,
   "id": "4214f0ca-1429-4f20-8a3d-9027fd42b4e7",
   "metadata": {},
   "outputs": [],
   "source": [
    "h_df_rra_combined = load_or_create_h_df_filename_rra_combined(pos_df_list_combined)\n",
    "h_df_rra_combined.info()\n",
    "h_df_rra_combined.head()"
   ]
  },
  {
   "cell_type": "code",
   "execution_count": null,
   "id": "3c69de51-29f7-4387-8d42-99bd248dde6b",
   "metadata": {},
   "outputs": [],
   "source": [
    "plot_scatter(h_df_rra_combined.values.flatten().tolist(), pos_columns, 'RRA Hurst exponent for different text sources, combined input', 'RRA')"
   ]
  }
 ],
 "metadata": {
  "kernelspec": {
   "display_name": "Python 3 (ipykernel)",
   "language": "python",
   "name": "python3"
  },
  "language_info": {
   "codemirror_mode": {
    "name": "ipython",
    "version": 3
   },
   "file_extension": ".py",
   "mimetype": "text/x-python",
   "name": "python",
   "nbconvert_exporter": "python",
   "pygments_lexer": "ipython3",
   "version": "3.8.10"
  }
 },
 "nbformat": 4,
 "nbformat_minor": 5
}
