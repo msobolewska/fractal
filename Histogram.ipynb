{
 "cells": [
  {
   "cell_type": "code",
   "execution_count": 1,
   "id": "86920fe0-e251-4df2-ba78-f7cb2b9b40c6",
   "metadata": {},
   "outputs": [
    {
     "name": "stdout",
     "output_type": "stream",
     "text": [
      "<class 'pandas.core.frame.DataFrame'>\n",
      "RangeIndex: 2439 entries, 0 to 2438\n",
      "Data columns (total 39 columns):\n",
      " #   Column                Non-Null Count  Dtype \n",
      "---  ------                --------------  ----- \n",
      " 0   Unnamed: 0            2439 non-null   int64 \n",
      " 1   term                  2439 non-null   object\n",
      " 2   response_gpt3         2439 non-null   object\n",
      " 3   pos_gpt3              2439 non-null   object\n",
      " 4   response_gpt4         2439 non-null   object\n",
      " 5   pos_gpt4              2439 non-null   object\n",
      " 6   wiki_response_gpt3    2439 non-null   object\n",
      " 7   wiki_pos_gpt3         2439 non-null   object\n",
      " 8   wiki_response_gpt4    2439 non-null   object\n",
      " 9   wiki_pos_gpt4         2439 non-null   object\n",
      " 10  response_orca         2439 non-null   object\n",
      " 11  pos_orca              2439 non-null   object\n",
      " 12  wiki_response_orca    2439 non-null   object\n",
      " 13  wiki_pos_orca         2439 non-null   object\n",
      " 14  prompt                2439 non-null   object\n",
      " 15  response_falcon       2439 non-null   object\n",
      " 16  pos_falcon            2439 non-null   object\n",
      " 17  wiki_response_falcon  2439 non-null   object\n",
      " 18  wiki_pos_falcon       2439 non-null   object\n",
      " 19  response_llama        2439 non-null   object\n",
      " 20  pos_llama             2439 non-null   object\n",
      " 21  wiki_response_llama   2439 non-null   object\n",
      " 22  wiki_pos_llama        2439 non-null   object\n",
      " 23  response_llama3       2439 non-null   object\n",
      " 24  pos_llama3            2439 non-null   object\n",
      " 25  wiki_response_llama3  2439 non-null   object\n",
      " 26  wiki_pos_llama3       2439 non-null   object\n",
      " 27  wiki_text_y           940 non-null    object\n",
      " 28  text_pos              2439 non-null   object\n",
      " 29  sumy                  2439 non-null   object\n",
      " 30  ts_sum                2439 non-null   object\n",
      " 31  bart_sum              2439 non-null   object\n",
      " 32  text                  2439 non-null   object\n",
      " 33  wiki_text             2439 non-null   object\n",
      " 34  gensim_sum            2419 non-null   object\n",
      " 35  sumy_pos              2439 non-null   object\n",
      " 36  bart_pos              2439 non-null   object\n",
      " 37  ts_pos                2439 non-null   object\n",
      " 38  gensim_pos            2439 non-null   object\n",
      "dtypes: int64(1), object(38)\n",
      "memory usage: 743.3+ KB\n"
     ]
    }
   ],
   "source": [
    "import pandas as pd\n",
    "df = pd.read_csv('dane_wiki_final.csv')\n",
    "df.info()"
   ]
  },
  {
   "cell_type": "code",
   "execution_count": 2,
   "id": "b69a4272-e7e5-4d05-af5e-967e21a36d9b",
   "metadata": {},
   "outputs": [],
   "source": [
    "sample_pos_column = \"pos_gpt4\""
   ]
  },
  {
   "cell_type": "code",
   "execution_count": 7,
   "id": "1fea243f-6e6c-4c77-8d22-588550433d6b",
   "metadata": {},
   "outputs": [
    {
     "name": "stdout",
     "output_type": "stream",
     "text": [
      "<class 'pandas.core.series.Series'>\n",
      "RangeIndex: 2439 entries, 0 to 2438\n",
      "Series name: pos_gpt4\n",
      "Non-Null Count  Dtype \n",
      "--------------  ----- \n",
      "2439 non-null   object\n",
      "dtypes: object(1)\n",
      "memory usage: 19.2+ KB\n"
     ]
    }
   ],
   "source": [
    "df_sample_pos = df[sample_pos_column]\n",
    "df_sample_pos.info()"
   ]
  },
  {
   "cell_type": "code",
   "execution_count": 5,
   "id": "5ef25058-d754-4a32-bdde-68b155e6e4d1",
   "metadata": {},
   "outputs": [],
   "source": [
    "# convert to python list\n",
    "\n",
    "import ast\n",
    "\n",
    "def convert_to_list(cell):\n",
    "    try:\n",
    "        return ast.literal_eval(cell)\n",
    "    except (ValueError, SyntaxError):\n",
    "        return cell"
   ]
  },
  {
   "cell_type": "code",
   "execution_count": 8,
   "id": "9bfa814f-9635-4d0f-8521-d439ca361479",
   "metadata": {},
   "outputs": [
    {
     "name": "stdout",
     "output_type": "stream",
     "text": [
      "<class 'pandas.core.series.Series'>\n",
      "RangeIndex: 2439 entries, 0 to 2438\n",
      "Series name: pos_gpt4\n",
      "Non-Null Count  Dtype \n",
      "--------------  ----- \n",
      "2439 non-null   object\n",
      "dtypes: object(1)\n",
      "memory usage: 19.2+ KB\n"
     ]
    },
    {
     "data": {
      "text/plain": [
       "0    [13, 4, 7, 1, 9, 12, 17, 11, 14, 17, 14, 14, 1...\n",
       "1    [13, 4, 7, 9, 2, 7, 13, 13, 9, 2, 13, 14, 17, ...\n",
       "2    [13, 4, 7, 1, 9, 12, 17, 1, 9, 14, 2, 1, 9, 14...\n",
       "3    [13, 4, 7, 1, 9, 17, 2, 10, 2, 7, 1, 9, 12, 17...\n",
       "4    [12, 4, 1, 2, 7, 9, 6, 12, 17, 12, 4, 4, 7, 9,...\n",
       "Name: pos_gpt4, dtype: object"
      ]
     },
     "execution_count": 8,
     "metadata": {},
     "output_type": "execute_result"
    }
   ],
   "source": [
    "df_sample_pos = df_sample_pos.apply(convert_to_list) \n",
    "df_sample_pos.info()\n",
    "df_sample_pos.head()"
   ]
  },
  {
   "cell_type": "code",
   "execution_count": 11,
   "id": "346c9f3e-9ab2-4022-bc83-53dd690230af",
   "metadata": {},
   "outputs": [],
   "source": [
    "# for each element calculate length of the array in cell\n",
    "def count_elems(cell):\n",
    "    try:\n",
    "        return len(cell)\n",
    "    except (ValueError, SyntaxError):\n",
    "        return cell"
   ]
  },
  {
   "cell_type": "code",
   "execution_count": 12,
   "id": "b35909a8-df09-471e-93a1-f4364942d988",
   "metadata": {},
   "outputs": [
    {
     "name": "stdout",
     "output_type": "stream",
     "text": [
      "<class 'pandas.core.series.Series'>\n",
      "RangeIndex: 2439 entries, 0 to 2438\n",
      "Series name: pos_gpt4\n",
      "Non-Null Count  Dtype\n",
      "--------------  -----\n",
      "2439 non-null   int64\n",
      "dtypes: int64(1)\n",
      "memory usage: 19.2 KB\n"
     ]
    },
    {
     "data": {
      "text/plain": [
       "0    181\n",
       "1    177\n",
       "2    184\n",
       "3    172\n",
       "4    133\n",
       "Name: pos_gpt4, dtype: int64"
      ]
     },
     "execution_count": 12,
     "metadata": {},
     "output_type": "execute_result"
    }
   ],
   "source": [
    "df_sample_pos = df_sample_pos.apply(count_elems) \n",
    "df_sample_pos.info()\n",
    "df_sample_pos.head()"
   ]
  },
  {
   "cell_type": "code",
   "execution_count": 13,
   "id": "89c75b66-3a73-4356-be3d-897d58f3fcae",
   "metadata": {},
   "outputs": [],
   "source": [
    "# draw histogram\n",
    "title = \"Distribution of lengths of time series'\"\n",
    "xlabel = \"Length of time series\"\n",
    "ylabel = \"Frequency\""
   ]
  },
  {
   "cell_type": "code",
   "execution_count": 14,
   "id": "1338553f-7d40-47e5-a007-4a33addbd0fc",
   "metadata": {},
   "outputs": [
    {
     "data": {
      "image/png": "[encoded data removed]",
      "text/plain": [
       "<Figure size 640x480 with 1 Axes>"
      ]
     },
     "metadata": {},
     "output_type": "display_data"
    }
   ],
   "source": [
    "import matplotlib.pyplot as plt\n",
    "plt.hist(df_sample_pos, bins='auto', alpha=0.75, color='blue', edgecolor='black')\n",
    "\n",
    "plt.title(title)\n",
    "plt.xlabel(xlabel)\n",
    "plt.ylabel(ylabel)\n",
    "\n",
    "plt.savefig('histogram.png')\n",
    "\n",
    "plt.show()"
   ]
  },
  {
   "cell_type": "code",
   "execution_count": null,
   "id": "30be984b-05f8-4879-b9fe-93a709666d30",
   "metadata": {},
   "outputs": [],
   "source": []
  }
 ],
 "metadata": {
  "kernelspec": {
   "display_name": "Python 3 (ipykernel)",
   "language": "python",
   "name": "python3"
  },
  "language_info": {
   "codemirror_mode": {
    "name": "ipython",
    "version": 3
   },
   "file_extension": ".py",
   "mimetype": "text/x-python",
   "name": "python",
   "nbconvert_exporter": "python",
   "pygments_lexer": "ipython3",
   "version": "3.8.10"
  }
 },
 "nbformat": 4,
 "nbformat_minor": 5
}
