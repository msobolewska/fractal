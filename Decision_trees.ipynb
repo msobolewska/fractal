{
 "cells": [
  {
   "cell_type": "markdown",
   "id": "0c0c444d-157d-4d8f-b6bb-432578b7ba9f",
   "metadata": {},
   "source": [
    "Construct decision tree from calculations"
   ]
  },
  {
   "cell_type": "code",
   "execution_count": 3,
   "id": "9c3273c6-d9bd-4f53-8bb9-cf73e2769640",
   "metadata": {},
   "outputs": [],
   "source": [
    "h_df_filename_dfa = 'h_df_dfa.csv'\n",
    "h_df_filename_afa = 'h_df_afa.csv'\n",
    "h_df_filename_rra = 'h_df_rra.csv'"
   ]
  },
  {
   "cell_type": "code",
   "execution_count": 4,
   "id": "b670feed-da84-4fd1-a0ab-865a5f5b1c6e",
   "metadata": {},
   "outputs": [],
   "source": [
    "import os\n",
    "\n",
    "def load_file(filename):\n",
    "    if os.path.exists(filename):\n",
    "        df = pd.read_csv(filename)\n",
    "        return df\n",
    "    return None"
   ]
  },
  {
   "cell_type": "code",
   "execution_count": 5,
   "id": "48ced497-0996-4495-b2e7-058480c2ec28",
   "metadata": {},
   "outputs": [],
   "source": [
    "import pandas as pd\n",
    "\n",
    "def transform_df_features(df):\n",
    "    features = []\n",
    "    labels = []\n",
    "    \n",
    "    for col in df.columns:\n",
    "        for value in df[col]:\n",
    "            features.append([value])\n",
    "            labels.append(col)\n",
    "\n",
    "    features_df = pd.DataFrame(features, columns=['value'])\n",
    "    labels_df = pd.Series(labels, name='label')\n",
    "\n",
    "    return features_df, labels_df"
   ]
  },
  {
   "cell_type": "code",
   "execution_count": 6,
   "id": "8da85fc5-472c-4506-bd21-9e8c08ee266a",
   "metadata": {},
   "outputs": [],
   "source": [
    "from sklearn.preprocessing import LabelEncoder\n",
    "\n",
    "def column_enc(labels_df):\n",
    "    label_encoder = LabelEncoder()\n",
    "    numeric_labels = label_encoder.fit_transform(labels_df)\n",
    "    return label_encoder, numeric_labels"
   ]
  },
  {
   "cell_type": "code",
   "execution_count": 7,
   "id": "2a9392ca-20dc-4a2b-8649-6ec27a636563",
   "metadata": {},
   "outputs": [],
   "source": [
    "from sklearn.tree import DecisionTreeClassifier\n",
    "from sklearn.multiclass import OneVsOneClassifier\n",
    "from sklearn.model_selection import train_test_split\n",
    "from sklearn import metrics\n",
    "from sklearn.svm import SVC, LinearSVC\n",
    "from sklearn.model_selection import GridSearchCV\n",
    "from sklearn.pipeline import make_pipeline\n",
    "from sklearn.preprocessing import StandardScaler\n",
    "from sklearn.linear_model import SGDClassifier\n",
    "from sklearn.pipeline import Pipeline\n",
    "from sklearn.metrics import accuracy_score\n",
    "\n",
    "def construct_svm(features_df, numeric_labels):\n",
    "    X_train, X_test, y_train, y_test = train_test_split(features_df, numeric_labels, test_size=0.3, random_state=0)\n",
    "\n",
    "    ovo_clf = OneVsOneClassifier(SVC(gamma='scale',kernel = 'rbf', C = 8.0, random_state=0))\n",
    "\n",
    "    pipeline = Pipeline([\n",
    "    ('scaler', StandardScaler()),\n",
    "    ('svc', SVC(kernel='rbf'))\n",
    "    ])\n",
    "\n",
    "    ovo_classifier = OneVsOneClassifier(pipeline)\n",
    "\n",
    "    param_grid = {\n",
    "        'estimator__svc__C': [0.01, 0.05, 0.1, 0.5, 1],\n",
    "        'estimator__svc__gamma': [1e-3, 1e-2, 1e-1, 1]\n",
    "    }\n",
    "\n",
    "    grid_search = GridSearchCV(ovo_classifier, param_grid, cv=5)\n",
    "    grid_search.fit(X_train, y_train)\n",
    "\n",
    "    print(f\"Best parameters: {grid_search.best_params_}\")\n",
    "\n",
    "    best_ovo_classifier = grid_search.best_estimator_\n",
    "    y_pred = best_ovo_classifier.predict(X_test)\n",
    "\n",
    "    accuracy = accuracy_score(y_test, y_pred)\n",
    "    print(f'Accuracy: {accuracy:.2f}')\n",
    "    \n",
    "    return best_ovo_classifier, X_test, y_test"
   ]
  },
  {
   "cell_type": "code",
   "execution_count": 31,
   "id": "a315120b-3bd7-477e-9b3c-b42bf242076c",
   "metadata": {},
   "outputs": [],
   "source": [
    "from sklearn.tree import DecisionTreeClassifier\n",
    "from sklearn.multiclass import OneVsOneClassifier\n",
    "from sklearn.model_selection import train_test_split\n",
    "from sklearn import metrics\n",
    "from sklearn.svm import SVC, LinearSVC\n",
    "from sklearn.model_selection import GridSearchCV\n",
    "from sklearn.pipeline import make_pipeline\n",
    "from sklearn.preprocessing import StandardScaler\n",
    "from sklearn.linear_model import SGDClassifier\n",
    "from sklearn.pipeline import Pipeline\n",
    "from sklearn.metrics import accuracy_score\n",
    "\n",
    "def construct_dt(features_df, numeric_labels):\n",
    "    X_train, X_test, y_train, y_test = train_test_split(features_df, numeric_labels, test_size=0.3, random_state=0)\n",
    "\n",
    "    dt = DecisionTreeClassifier(random_state=42)\n",
    "\n",
    "    ovo_classifier = OneVsOneClassifier(dt)\n",
    "\n",
    "    param_grid = {\n",
    "    'estimator__criterion': ['gini', 'entropy'],\n",
    "    'estimator__max_depth': [None, 10, 20],\n",
    "    'estimator__min_samples_split': [2, 5, 10],\n",
    "    'estimator__min_samples_leaf': [1, 2, 5],\n",
    "    'estimator__max_features': ['sqrt', 'log2'],\n",
    "      }\n",
    "\n",
    "    grid_search = GridSearchCV(ovo_classifier, param_grid, cv=5, verbose=1)\n",
    "    grid_search.fit(X_train, y_train)\n",
    "    \n",
    "    print(\"Best parameters found by GridSearchCV:\")\n",
    "    print(grid_search.best_params_)\n",
    "    print()\n",
    "\n",
    "    best_ovo_classifier = grid_search.best_estimator_\n",
    "    y_pred = best_ovo_classifier.predict(X_test)\n",
    "\n",
    "    accuracy = accuracy_score(y_test, y_pred)\n",
    "    print(f'Accuracy: {accuracy:.2f}')\n",
    "    \n",
    "    return ovo_clf, X_test, y_test"
   ]
  },
  {
   "cell_type": "markdown",
   "id": "b527f207-ffd0-4437-9658-a9cda0d622ff",
   "metadata": {},
   "source": [
    "DFA"
   ]
  },
  {
   "cell_type": "code",
   "execution_count": 33,
   "id": "8e66adcd-7d3b-4bf9-85dd-7aa45368e3b4",
   "metadata": {},
   "outputs": [
    {
     "name": "stdout",
     "output_type": "stream",
     "text": [
      "Fitting 5 folds for each of 108 candidates, totalling 540 fits\n",
      "Best parameters found by GridSearchCV:\n",
      "{'estimator__criterion': 'entropy', 'estimator__max_depth': 10, 'estimator__max_features': 'sqrt', 'estimator__min_samples_leaf': 1, 'estimator__min_samples_split': 5}\n",
      "\n",
      "Accuracy: 0.13\n"
     ]
    }
   ],
   "source": [
    "df = load_file(h_df_filename_dfa)\n",
    "\n",
    "df.dropna()\n",
    "\n",
    "features_df, labels_df = transform_df_features(df)\n",
    "label_encoder, numeric_labels = column_enc(labels_df)\n",
    "ovo_clf, X_test, y_test = construct_dt(features_df, numeric_labels)"
   ]
  },
  {
   "cell_type": "markdown",
   "id": "a728953d-1e45-46b6-99bb-aab87e4c80f4",
   "metadata": {},
   "source": [
    "AFA"
   ]
  },
  {
   "cell_type": "code",
   "execution_count": 34,
   "id": "9738cbc8-f123-4775-b5de-ba22b78f9cd5",
   "metadata": {},
   "outputs": [
    {
     "name": "stdout",
     "output_type": "stream",
     "text": [
      "Fitting 5 folds for each of 108 candidates, totalling 540 fits\n",
      "Best parameters found by GridSearchCV:\n",
      "{'estimator__criterion': 'gini', 'estimator__max_depth': 10, 'estimator__max_features': 'sqrt', 'estimator__min_samples_leaf': 2, 'estimator__min_samples_split': 5}\n",
      "\n",
      "Accuracy: 0.13\n"
     ]
    }
   ],
   "source": [
    "df = load_file(h_df_filename_afa)\n",
    "\n",
    "df.dropna()\n",
    "\n",
    "features_df, labels_df = transform_df_features(df)\n",
    "label_encoder, numeric_labels = column_enc(labels_df)\n",
    "ovo_clf, X_test, y_test = construct_dt(features_df, numeric_labels)"
   ]
  },
  {
   "cell_type": "markdown",
   "id": "86f7decd-41f2-43d3-83bd-b7a1725888ba",
   "metadata": {},
   "source": [
    "RRA"
   ]
  },
  {
   "cell_type": "code",
   "execution_count": 35,
   "id": "a8eacfc6-028b-4d91-bad5-185aa0cc1985",
   "metadata": {},
   "outputs": [
    {
     "name": "stdout",
     "output_type": "stream",
     "text": [
      "   pos_gpt3  wiki_pos_gpt3  pos_gpt4  wiki_pos_gpt4  pos_orca  wiki_pos_orca  \\\n",
      "0  0.568857       0.625814  0.648996       0.445265  0.577301       0.653786   \n",
      "1  0.513762       0.454937  0.585142       0.487270  0.706383       0.619046   \n",
      "2  0.625112       0.475646  0.616498       0.551816  0.608498       0.596052   \n",
      "3  0.542602       0.506067  0.631895       0.608186  0.517663       0.553370   \n",
      "5  0.599746       0.534298  0.529228       0.554712  0.558618       0.593527   \n",
      "\n",
      "   pos_falcon  wiki_pos_falcon  pos_llama  wiki_pos_llama  pos_llama3  \\\n",
      "0    0.574087         0.670758   0.462178        0.533370    0.615364   \n",
      "1    0.644570         0.590531   0.619429        0.660133    0.505824   \n",
      "2    0.632380         0.579613   0.614589        0.679210    0.525707   \n",
      "3    0.584186         0.622216   0.651382        0.449492    0.549626   \n",
      "5    0.503855         0.580111   0.578636        0.475438    0.539931   \n",
      "\n",
      "   wiki_pos_llama3  text_pos  bart_pos  gensim_pos  \n",
      "0         0.642561  0.574153  0.780939    0.618909  \n",
      "1         0.502387  0.530692  0.667083    0.425842  \n",
      "2         0.487209  0.763292  0.731614    0.808873  \n",
      "3         0.597593  0.615652  0.533181    0.627242  \n",
      "5         0.599126  0.722850  0.587758    0.745907  \n",
      "Fitting 5 folds for each of 108 candidates, totalling 540 fits\n",
      "Best parameters found by GridSearchCV:\n",
      "{'estimator__criterion': 'gini', 'estimator__max_depth': None, 'estimator__max_features': 'sqrt', 'estimator__min_samples_leaf': 1, 'estimator__min_samples_split': 2}\n",
      "\n",
      "Accuracy: 0.16\n"
     ]
    }
   ],
   "source": [
    "df = load_file(h_df_filename_rra)\n",
    "\n",
    "df = df.dropna()\n",
    "\n",
    "print(df.head())\n",
    "\n",
    "features_df, labels_df = transform_df_features(df)\n",
    "label_encoder, numeric_labels = column_enc(labels_df)\n",
    "ovo_clf, X_test, y_test = construct_dt(features_df, numeric_labels)"
   ]
  }
 ],
 "metadata": {
  "kernelspec": {
   "display_name": "Python 3 (ipykernel)",
   "language": "python",
   "name": "python3"
  },
  "language_info": {
   "codemirror_mode": {
    "name": "ipython",
    "version": 3
   },
   "file_extension": ".py",
   "mimetype": "text/x-python",
   "name": "python",
   "nbconvert_exporter": "python",
   "pygments_lexer": "ipython3",
   "version": "3.8.10"
  }
 },
 "nbformat": 4,
 "nbformat_minor": 5
}
